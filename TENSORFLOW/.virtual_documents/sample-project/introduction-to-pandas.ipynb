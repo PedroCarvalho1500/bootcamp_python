import pandas as pd


#2 main datatypes
series = pd.Series(["BMW","Toyota","Honda"])


series


# series = 1-dimensional


colours = pd.Series(["Red", "Blue", "White"])
colours


#DataFrame = 2-dimensional


car_data = pd.DataFrame({"Car make":series, "Colour": colours})
car_data


# Import data


car_sales = pd.read_csv("car-sales.csv")


car_sales


# Exporting a data frame


car_sales.to_csv("exported-car-sales.csv",index=False)


exported_car_sales = pd.read_csv("exported-car-sales.csv")
exported_car_sales



